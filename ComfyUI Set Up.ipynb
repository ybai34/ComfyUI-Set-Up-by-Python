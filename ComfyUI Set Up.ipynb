{
 "cells": [
  {
   "cell_type": "markdown",
   "id": "373fd6a0-83b2-4860-9b2d-99f8174d7e95",
   "metadata": {},
   "source": [
    "# Step 1: Download Source Code"
   ]
  },
  {
   "cell_type": "code",
   "execution_count": 1,
   "id": "01e356e7-d9fb-4ad0-a228-2aae8b18cdfb",
   "metadata": {
    "execution": {
     "iopub.execute_input": "2024-07-05T11:16:14.874167Z",
     "iopub.status.busy": "2024-07-05T11:16:14.873865Z",
     "iopub.status.idle": "2024-07-05T11:16:17.914921Z",
     "shell.execute_reply": "2024-07-05T11:16:17.914413Z",
     "shell.execute_reply.started": "2024-07-05T11:16:14.874149Z"
    },
    "tags": []
   },
   "outputs": [
    {
     "name": "stdout",
     "output_type": "stream",
     "text": [
      "Cloning into 'ComfyUI'...\n",
      "remote: Enumerating objects: 11800, done.\u001b[K\n",
      "remote: Counting objects: 100% (381/381), done.\u001b[K\n",
      "remote: Compressing objects: 100% (253/253), done.\u001b[K\n",
      "remote: Total 11800 (delta 213), reused 210 (delta 123), pack-reused 11419\u001b[K\n",
      "Receiving objects: 100% (11800/11800), 5.75 MiB | 4.33 MiB/s, done.\n",
      "Resolving deltas: 100% (7941/7941), done.\n"
     ]
    }
   ],
   "source": [
    "! git clone https://github.com/comfyanonymous/ComfyUI"
   ]
  },
  {
   "cell_type": "code",
   "execution_count": 2,
   "id": "431865dd-858d-4553-b07d-b9c40a05cde6",
   "metadata": {
    "execution": {
     "iopub.execute_input": "2024-07-05T11:16:19.548897Z",
     "iopub.status.busy": "2024-07-05T11:16:19.548579Z",
     "iopub.status.idle": "2024-07-05T11:16:29.535254Z",
     "shell.execute_reply": "2024-07-05T11:16:29.534719Z",
     "shell.execute_reply.started": "2024-07-05T11:16:19.548879Z"
    },
    "tags": []
   },
   "outputs": [
    {
     "name": "stdout",
     "output_type": "stream",
     "text": [
      "/mnt/workspace/ComfyUI\n",
      "Looking in indexes: https://mirrors.cloud.aliyuncs.com/pypi/simple\n",
      "Requirement already satisfied: torch in /usr/local/lib/python3.10/dist-packages (from -r requirements.txt (line 1)) (2.0.1+cu117)\n",
      "Requirement already satisfied: torchsde in /usr/local/lib/python3.10/dist-packages/torchsde-0.2.5-py3.10.egg (from -r requirements.txt (line 2)) (0.2.5)\n",
      "Requirement already satisfied: torchvision in /usr/local/lib/python3.10/dist-packages (from -r requirements.txt (line 3)) (0.15.2+cu117)\n",
      "\u001b[33mDEPRECATION: The HTML index page being used (https://mirrors.cloud.aliyuncs.com/pypi/simple/torchaudio/) is not a proper HTML 5 document. This is in violation of PEP 503 which requires these pages to be well-formed HTML 5 documents. Please reach out to the owners of this index page, and ask them to update this index page to a valid HTML 5 document. pip 22.2 will enforce this behaviour change. Discussion can be found at https://github.com/pypa/pip/issues/10825\u001b[0m\u001b[33m\n",
      "\u001b[0mCollecting torchaudio\n",
      "  Downloading https://mirrors.cloud.aliyuncs.com/pypi/packages/8e/2a/f33c0f2d9cc51a2f33e13902c47fafac1bad0c3a02077382e869bd9939c2/torchaudio-2.3.1-cp310-cp310-manylinux1_x86_64.whl (3.3 MB)\n",
      "\u001b[2K     \u001b[90m━━━━━━━━━━━━━━━━━━━━━━━━━━━━━━━━━━━━━━━━\u001b[0m \u001b[32m3.3/3.3 MB\u001b[0m \u001b[31m45.6 MB/s\u001b[0m eta \u001b[36m0:00:00\u001b[0m00:01\u001b[0m00:01\u001b[0m\n",
      "\u001b[?25hRequirement already satisfied: einops in /usr/local/lib/python3.10/dist-packages (from -r requirements.txt (line 5)) (0.4.1)\n",
      "Requirement already satisfied: transformers>=4.25.1 in /usr/local/lib/python3.10/dist-packages (from -r requirements.txt (line 6)) (4.25.1)\n",
      "\u001b[33mDEPRECATION: The HTML index page being used (https://mirrors.cloud.aliyuncs.com/pypi/simple/safetensors/) is not a proper HTML 5 document. This is in violation of PEP 503 which requires these pages to be well-formed HTML 5 documents. Please reach out to the owners of this index page, and ask them to update this index page to a valid HTML 5 document. pip 22.2 will enforce this behaviour change. Discussion can be found at https://github.com/pypa/pip/issues/10825\u001b[0m\u001b[33m\n",
      "\u001b[0mCollecting safetensors>=0.4.2\n",
      "  Downloading https://mirrors.cloud.aliyuncs.com/pypi/packages/8f/05/969e1a976b84283285181b00028cf73d78434b77a6627fc2a94194cca265/safetensors-0.4.3-cp310-cp310-manylinux_2_17_x86_64.manylinux2014_x86_64.whl (1.2 MB)\n",
      "\u001b[2K     \u001b[90m━━━━━━━━━━━━━━━━━━━━━━━━━━━━━━━━━━━━━━━━\u001b[0m \u001b[32m1.2/1.2 MB\u001b[0m \u001b[31m86.9 MB/s\u001b[0m eta \u001b[36m0:00:00\u001b[0m\n",
      "\u001b[?25hRequirement already satisfied: aiohttp in /usr/local/lib/python3.10/dist-packages (from -r requirements.txt (line 8)) (3.8.5)\n",
      "Requirement already satisfied: pyyaml in /usr/local/lib/python3.10/dist-packages (from -r requirements.txt (line 9)) (6.0.1)\n",
      "Requirement already satisfied: Pillow in /usr/local/lib/python3.10/dist-packages (from -r requirements.txt (line 10)) (9.5.0)\n",
      "Requirement already satisfied: scipy in /usr/local/lib/python3.10/dist-packages (from -r requirements.txt (line 11)) (1.11.2)\n",
      "Requirement already satisfied: tqdm in /usr/local/lib/python3.10/dist-packages (from -r requirements.txt (line 12)) (4.66.1)\n",
      "Requirement already satisfied: psutil in /usr/local/lib/python3.10/dist-packages (from -r requirements.txt (line 13)) (5.9.5)\n",
      "\u001b[33mDEPRECATION: The HTML index page being used (https://mirrors.cloud.aliyuncs.com/pypi/simple/kornia/) is not a proper HTML 5 document. This is in violation of PEP 503 which requires these pages to be well-formed HTML 5 documents. Please reach out to the owners of this index page, and ask them to update this index page to a valid HTML 5 document. pip 22.2 will enforce this behaviour change. Discussion can be found at https://github.com/pypa/pip/issues/10825\u001b[0m\u001b[33m\n",
      "\u001b[0mCollecting kornia>=0.7.1\n",
      "  Downloading https://mirrors.cloud.aliyuncs.com/pypi/packages/58/26/9e6fad0f5e8c25b19e3c25fd0efa0817b9e1a3d9670df8454162e053f283/kornia-0.7.3-py2.py3-none-any.whl (833 kB)\n",
      "\u001b[2K     \u001b[90m━━━━━━━━━━━━━━━━━━━━━━━━━━━━━━━━━━━━━━━\u001b[0m \u001b[32m833.3/833.3 KB\u001b[0m \u001b[31m8.1 MB/s\u001b[0m eta \u001b[36m0:00:00\u001b[0ma \u001b[36m0:00:01\u001b[0m\n",
      "\u001b[?25h\u001b[33mDEPRECATION: The HTML index page being used (https://mirrors.cloud.aliyuncs.com/pypi/simple/spandrel/) is not a proper HTML 5 document. This is in violation of PEP 503 which requires these pages to be well-formed HTML 5 documents. Please reach out to the owners of this index page, and ask them to update this index page to a valid HTML 5 document. pip 22.2 will enforce this behaviour change. Discussion can be found at https://github.com/pypa/pip/issues/10825\u001b[0m\u001b[33m\n",
      "\u001b[0mCollecting spandrel\n",
      "  Downloading https://mirrors.cloud.aliyuncs.com/pypi/packages/1f/53/94dc6c19273be734247dab99494ed22d8ed188e7442c2ea28dbc9ae91dce/spandrel-0.3.4-py3-none-any.whl (268 kB)\n",
      "\u001b[2K     \u001b[90m━━━━━━━━━━━━━━━━━━━━━━━━━━━━━━━━━━━━━\u001b[0m \u001b[32m269.0/269.0 KB\u001b[0m \u001b[31m105.5 MB/s\u001b[0m eta \u001b[36m0:00:00\u001b[0m\n",
      "\u001b[?25h\u001b[33mDEPRECATION: The HTML index page being used (https://mirrors.cloud.aliyuncs.com/pypi/simple/soundfile/) is not a proper HTML 5 document. This is in violation of PEP 503 which requires these pages to be well-formed HTML 5 documents. Please reach out to the owners of this index page, and ask them to update this index page to a valid HTML 5 document. pip 22.2 will enforce this behaviour change. Discussion can be found at https://github.com/pypa/pip/issues/10825\u001b[0m\u001b[33m\n",
      "\u001b[0mCollecting soundfile\n",
      "  Downloading https://mirrors.cloud.aliyuncs.com/pypi/packages/c1/07/7591f4efd29e65071c3a61b53725036ea8f73366a4920a481ebddaf8d0ca/soundfile-0.12.1-py2.py3-none-manylinux_2_31_x86_64.whl (1.2 MB)\n",
      "\u001b[2K     \u001b[90m━━━━━━━━━━━━━━━━━━━━━━━━━━━━━━━━━━━━━━━━\u001b[0m \u001b[32m1.2/1.2 MB\u001b[0m \u001b[31m170.5 MB/s\u001b[0m eta \u001b[36m0:00:00\u001b[0m\n",
      "\u001b[?25hRequirement already satisfied: typing-extensions in /usr/local/lib/python3.10/dist-packages (from torch->-r requirements.txt (line 1)) (4.8.0)\n",
      "Requirement already satisfied: sympy in /usr/local/lib/python3.10/dist-packages (from torch->-r requirements.txt (line 1)) (1.12)\n",
      "Requirement already satisfied: networkx in /usr/local/lib/python3.10/dist-packages (from torch->-r requirements.txt (line 1)) (3.1)\n",
      "Requirement already satisfied: triton==2.0.0 in /usr/local/lib/python3.10/dist-packages (from torch->-r requirements.txt (line 1)) (2.0.0)\n",
      "Requirement already satisfied: filelock in /usr/local/lib/python3.10/dist-packages (from torch->-r requirements.txt (line 1)) (3.12.4)\n",
      "Requirement already satisfied: jinja2 in /usr/local/lib/python3.10/dist-packages (from torch->-r requirements.txt (line 1)) (3.1.2)\n",
      "Requirement already satisfied: cmake in /usr/local/lib/python3.10/dist-packages (from triton==2.0.0->torch->-r requirements.txt (line 1)) (3.27.5)\n",
      "Requirement already satisfied: lit in /usr/local/lib/python3.10/dist-packages (from triton==2.0.0->torch->-r requirements.txt (line 1)) (17.0.1)\n",
      "Requirement already satisfied: boltons>=20.2.1 in /usr/local/lib/python3.10/dist-packages/boltons-23.0.0-py3.10.egg (from torchsde->-r requirements.txt (line 2)) (23.0.0)\n",
      "Requirement already satisfied: trampoline>=0.1.2 in /usr/local/lib/python3.10/dist-packages (from torchsde->-r requirements.txt (line 2)) (0.1.2)\n",
      "Requirement already satisfied: numpy in /usr/local/lib/python3.10/dist-packages (from torchvision->-r requirements.txt (line 3)) (1.23.5)\n",
      "Requirement already satisfied: requests in /usr/local/lib/python3.10/dist-packages (from torchvision->-r requirements.txt (line 3)) (2.31.0)\n",
      "\u001b[33mDEPRECATION: The HTML index page being used (https://mirrors.cloud.aliyuncs.com/pypi/simple/torch/) is not a proper HTML 5 document. This is in violation of PEP 503 which requires these pages to be well-formed HTML 5 documents. Please reach out to the owners of this index page, and ask them to update this index page to a valid HTML 5 document. pip 22.2 will enforce this behaviour change. Discussion can be found at https://github.com/pypa/pip/issues/10825\u001b[0m\u001b[33m\n",
      "\u001b[0mCollecting torchaudio\n",
      "  Downloading https://mirrors.cloud.aliyuncs.com/pypi/packages/f5/35/bc3d7f953a0ad20511039f414c3f9c813b32c108b55fc1be5349a36ead6b/torchaudio-2.3.0-cp310-cp310-manylinux1_x86_64.whl (3.3 MB)\n",
      "\u001b[2K     \u001b[90m━━━━━━━━━━━━━━━━━━━━━━━━━━━━━━━━━━━━━━━━\u001b[0m \u001b[32m3.3/3.3 MB\u001b[0m \u001b[31m144.1 MB/s\u001b[0m eta \u001b[36m0:00:00\u001b[0m\n",
      "\u001b[?25h  Downloading https://mirrors.cloud.aliyuncs.com/pypi/packages/73/ce/75bb2a9340a2a8d6fd61fcd1e6e386a75ba2a0fb72a0f1ded18c2b1c4bd1/torchaudio-2.2.2-cp310-cp310-manylinux1_x86_64.whl (3.3 MB)\n",
      "\u001b[2K     \u001b[90m━━━━━━━━━━━━━━━━━━━━━━━━━━━━━━━━━━━━━━━━\u001b[0m \u001b[32m3.3/3.3 MB\u001b[0m \u001b[31m165.0 MB/s\u001b[0m eta \u001b[36m0:00:00\u001b[0m\n",
      "\u001b[?25h  Downloading https://mirrors.cloud.aliyuncs.com/pypi/packages/ce/99/7485966a902905e206eda57fdca8de69545c107e33eefe9f6536c2dda16c/torchaudio-2.2.1-cp310-cp310-manylinux1_x86_64.whl (3.3 MB)\n",
      "\u001b[2K     \u001b[90m━━━━━━━━━━━━━━━━━━━━━━━━━━━━━━━━━━━━━━━━\u001b[0m \u001b[32m3.3/3.3 MB\u001b[0m \u001b[31m165.7 MB/s\u001b[0m eta \u001b[36m0:00:00\u001b[0m\n",
      "\u001b[?25h  Downloading https://mirrors.cloud.aliyuncs.com/pypi/packages/30/fc/cdcf7c2071539ea147ddb6de2b538d9c1599665b621f2e6cf0b3ef51d20d/torchaudio-2.2.0-cp310-cp310-manylinux1_x86_64.whl (3.3 MB)\n",
      "\u001b[2K     \u001b[90m━━━━━━━━━━━━━━━━━━━━━━━━━━━━━━━━━━━━━━━━\u001b[0m \u001b[32m3.3/3.3 MB\u001b[0m \u001b[31m163.5 MB/s\u001b[0m eta \u001b[36m0:00:00\u001b[0m\n",
      "\u001b[?25h  Downloading https://mirrors.cloud.aliyuncs.com/pypi/packages/25/83/4170df23c16c25818ce9591fd2b8109cda3f725d115d77417d4efef4eb46/torchaudio-2.1.2-cp310-cp310-manylinux1_x86_64.whl (3.3 MB)\n",
      "\u001b[2K     \u001b[90m━━━━━━━━━━━━━━━━━━━━━━━━━━━━━━━━━━━━━━━━\u001b[0m \u001b[32m3.3/3.3 MB\u001b[0m \u001b[31m162.4 MB/s\u001b[0m eta \u001b[36m0:00:00\u001b[0m\n",
      "\u001b[?25h  Downloading https://mirrors.cloud.aliyuncs.com/pypi/packages/2a/58/18754a3e193ba5fb6097830d51b788574c43ed30f9adf8106cdfd5315ad1/torchaudio-2.1.1-cp310-cp310-manylinux1_x86_64.whl (3.3 MB)\n",
      "\u001b[2K     \u001b[90m━━━━━━━━━━━━━━━━━━━━━━━━━━━━━━━━━━━━━━━━\u001b[0m \u001b[32m3.3/3.3 MB\u001b[0m \u001b[31m143.6 MB/s\u001b[0m eta \u001b[36m0:00:00\u001b[0m\n",
      "\u001b[?25h  Downloading https://mirrors.cloud.aliyuncs.com/pypi/packages/31/52/3f76cf4364322db27ea1d6b32a7864b2d7a78a2c240d975b25783e262035/torchaudio-2.1.0-cp310-cp310-manylinux1_x86_64.whl (3.3 MB)\n",
      "\u001b[2K     \u001b[90m━━━━━━━━━━━━━━━━━━━━━━━━━━━━━━━━━━━━━━━━\u001b[0m \u001b[32m3.3/3.3 MB\u001b[0m \u001b[31m170.5 MB/s\u001b[0m eta \u001b[36m0:00:00\u001b[0m\n",
      "\u001b[?25h  Downloading https://mirrors.cloud.aliyuncs.com/pypi/packages/a6/4f/51b07324ae7e310877f1cf9ab6becaa18bbd3e0e909b8775325c02e19c67/torchaudio-2.0.2-cp310-cp310-manylinux1_x86_64.whl (4.4 MB)\n",
      "\u001b[2K     \u001b[90m━━━━━━━━━━━━━━━━━━━━━━━━━━━━━━━━━━━━━━━━\u001b[0m \u001b[32m4.4/4.4 MB\u001b[0m \u001b[31m171.7 MB/s\u001b[0m eta \u001b[36m0:00:00\u001b[0m\n",
      "\u001b[?25hRequirement already satisfied: huggingface-hub<1.0,>=0.10.0 in /usr/local/lib/python3.10/dist-packages (from transformers>=4.25.1->-r requirements.txt (line 6)) (0.17.3)\n",
      "Requirement already satisfied: packaging>=20.0 in /usr/local/lib/python3.10/dist-packages (from transformers>=4.25.1->-r requirements.txt (line 6)) (23.1)\n",
      "Requirement already satisfied: regex!=2019.12.17 in /usr/local/lib/python3.10/dist-packages (from transformers>=4.25.1->-r requirements.txt (line 6)) (2023.8.8)\n",
      "Requirement already satisfied: tokenizers!=0.11.3,<0.14,>=0.11.1 in /usr/local/lib/python3.10/dist-packages (from transformers>=4.25.1->-r requirements.txt (line 6)) (0.13.3)\n",
      "Requirement already satisfied: charset-normalizer<4.0,>=2.0 in /usr/local/lib/python3.10/dist-packages (from aiohttp->-r requirements.txt (line 8)) (3.2.0)\n",
      "Requirement already satisfied: multidict<7.0,>=4.5 in /usr/local/lib/python3.10/dist-packages (from aiohttp->-r requirements.txt (line 8)) (6.0.4)\n",
      "Requirement already satisfied: async-timeout<5.0,>=4.0.0a3 in /usr/local/lib/python3.10/dist-packages (from aiohttp->-r requirements.txt (line 8)) (4.0.3)\n",
      "Requirement already satisfied: aiosignal>=1.1.2 in /usr/local/lib/python3.10/dist-packages (from aiohttp->-r requirements.txt (line 8)) (1.3.1)\n",
      "Requirement already satisfied: attrs>=17.3.0 in /usr/local/lib/python3.10/dist-packages (from aiohttp->-r requirements.txt (line 8)) (23.1.0)\n",
      "Requirement already satisfied: frozenlist>=1.1.1 in /usr/local/lib/python3.10/dist-packages (from aiohttp->-r requirements.txt (line 8)) (1.4.0)\n",
      "Requirement already satisfied: yarl<2.0,>=1.0 in /usr/local/lib/python3.10/dist-packages (from aiohttp->-r requirements.txt (line 8)) (1.9.2)\n",
      "\u001b[33mDEPRECATION: The HTML index page being used (https://mirrors.cloud.aliyuncs.com/pypi/simple/kornia-rs/) is not a proper HTML 5 document. This is in violation of PEP 503 which requires these pages to be well-formed HTML 5 documents. Please reach out to the owners of this index page, and ask them to update this index page to a valid HTML 5 document. pip 22.2 will enforce this behaviour change. Discussion can be found at https://github.com/pypa/pip/issues/10825\u001b[0m\u001b[33m\n",
      "\u001b[0mCollecting kornia-rs>=0.1.0\n",
      "  Downloading https://mirrors.cloud.aliyuncs.com/pypi/packages/35/f0/ce1ee1cffa61657f6eb317a7d6dbe95cdbd990094d3dbe8d4ca522074955/kornia_rs-0.1.4-cp310-cp310-manylinux_2_17_x86_64.manylinux2014_x86_64.whl (1.6 MB)\n",
      "\u001b[2K     \u001b[90m━━━━━━━━━━━━━━━━━━━━━━━━━━━━━━━━━━━━━━━━\u001b[0m \u001b[32m1.6/1.6 MB\u001b[0m \u001b[31m9.8 MB/s\u001b[0m eta \u001b[36m0:00:00\u001b[0ma \u001b[36m0:00:01\u001b[0m\n",
      "\u001b[?25hRequirement already satisfied: cffi>=1.0 in /usr/local/lib/python3.10/dist-packages (from soundfile->-r requirements.txt (line 18)) (1.15.1)\n",
      "Requirement already satisfied: pycparser in /usr/local/lib/python3.10/dist-packages (from cffi>=1.0->soundfile->-r requirements.txt (line 18)) (2.21)\n",
      "Requirement already satisfied: fsspec in /usr/local/lib/python3.10/dist-packages (from huggingface-hub<1.0,>=0.10.0->transformers>=4.25.1->-r requirements.txt (line 6)) (2023.9.2)\n",
      "Requirement already satisfied: idna>=2.0 in /usr/local/lib/python3.10/dist-packages (from yarl<2.0,>=1.0->aiohttp->-r requirements.txt (line 8)) (3.4)\n",
      "Requirement already satisfied: MarkupSafe>=2.0 in /usr/local/lib/python3.10/dist-packages (from jinja2->torch->-r requirements.txt (line 1)) (2.1.3)\n",
      "Requirement already satisfied: certifi>=2017.4.17 in /usr/local/lib/python3.10/dist-packages (from requests->torchvision->-r requirements.txt (line 3)) (2023.7.22)\n",
      "Requirement already satisfied: urllib3<3,>=1.21.1 in /usr/local/lib/python3.10/dist-packages (from requests->torchvision->-r requirements.txt (line 3)) (2.0.5)\n",
      "Requirement already satisfied: mpmath>=0.19 in /usr/local/lib/python3.10/dist-packages (from sympy->torch->-r requirements.txt (line 1)) (1.3.0)\n",
      "Installing collected packages: safetensors, kornia-rs, soundfile, torchaudio, spandrel, kornia\n",
      "  Attempting uninstall: safetensors\n",
      "    Found existing installation: safetensors 0.3.1\n",
      "    Uninstalling safetensors-0.3.1:\n",
      "      Successfully uninstalled safetensors-0.3.1\n",
      "  Attempting uninstall: kornia\n",
      "    Found existing installation: kornia 0.6.7\n",
      "    Uninstalling kornia-0.6.7:\n",
      "      Successfully uninstalled kornia-0.6.7\n",
      "\u001b[31mERROR: pip's dependency resolver does not currently take into account all the packages that are installed. This behaviour is the source of the following dependency conflicts.\n",
      "transparent-background 1.2.7 requires timm>=0.6.11, but you have timm 0.6.7 which is incompatible.\n",
      "ms-swift 1.1.0 requires transformers>=4.30.0, but you have transformers 4.25.1 which is incompatible.\u001b[0m\u001b[31m\n",
      "\u001b[0mSuccessfully installed kornia-0.7.3 kornia-rs-0.1.4 safetensors-0.4.3 soundfile-0.12.1 spandrel-0.3.4 torchaudio-2.0.2\n",
      "\u001b[33mWARNING: Running pip as the 'root' user can result in broken permissions and conflicting behaviour with the system package manager. It is recommended to use a virtual environment instead: https://pip.pypa.io/warnings/venv\u001b[0m\u001b[33m\n",
      "\u001b[0m"
     ]
    }
   ],
   "source": [
    "%cd ComfyUI\n",
    "#!python -m venv venv   # Creating a virtual environment, comment it after first time running\n",
    "#!source venv/bin/activate # Activate the virtual environment\n",
    "!pip install -r requirements.txt  # Install all the dependencies"
   ]
  },
  {
   "cell_type": "markdown",
   "id": "c9512593-1efe-4a91-b6d3-97574d6e30d8",
   "metadata": {},
   "source": [
    "# Step 2: Install the model\n",
    "\n",
    "Recommend to upload via OSS"
   ]
  },
  {
   "cell_type": "code",
   "execution_count": 3,
   "id": "97ff4063-91f5-4ff8-a467-f562b114967c",
   "metadata": {
    "ExecutionIndicator": {
     "show": true
    },
    "execution": {
     "iopub.execute_input": "2024-07-05T11:16:33.254735Z",
     "iopub.status.busy": "2024-07-05T11:16:33.254421Z",
     "iopub.status.idle": "2024-07-05T11:17:58.149163Z",
     "shell.execute_reply": "2024-07-05T11:17:58.148585Z",
     "shell.execute_reply.started": "2024-07-05T11:16:33.254717Z"
    },
    "tags": []
   },
   "outputs": [
    {
     "name": "stdout",
     "output_type": "stream",
     "text": [
      "[Errno 2] No such file or directory: 'ComfyUI'\n",
      "/mnt/workspace/ComfyUI\n",
      "--2024-07-05 11:16:33--  http://pai-vision-data-sh.oss-cn-shanghai.aliyuncs.com/aigc-data/sd_models/Counterfeit-V2.5_fp16.safetensors\n",
      "Resolving pai-vision-data-sh.oss-cn-shanghai.aliyuncs.com (pai-vision-data-sh.oss-cn-shanghai.aliyuncs.com)... 106.14.228.10\n",
      "Connecting to pai-vision-data-sh.oss-cn-shanghai.aliyuncs.com (pai-vision-data-sh.oss-cn-shanghai.aliyuncs.com)|106.14.228.10|:80... connected.\n",
      "HTTP request sent, awaiting response... 200 OK\n",
      "Length: 2132626071 (2.0G) [application/octet-stream]\n",
      "Saving to: ‘./models/checkpoints/Counterfeit-V2.5_fp16.safetensors’\n",
      "\n",
      "Counterfeit-V2.5_fp 100%[===================>]   1.99G  24.3MB/s    in 85s     \n",
      "\n",
      "2024-07-05 11:17:58 (24.1 MB/s) - ‘./models/checkpoints/Counterfeit-V2.5_fp16.safetensors’ saved [2132626071/2132626071]\n",
      "\n"
     ]
    }
   ],
   "source": [
    "%cd ComfyUI\n",
    "!wget -P ./models/checkpoints/ http://pai-vision-data-sh.oss-cn-shanghai.aliyuncs.com/aigc-data/sd_models/Counterfeit-V2.5_fp16.safetensors\n"
   ]
  },
  {
   "cell_type": "markdown",
   "id": "1dc5e074-1df2-4586-a1dd-6ae7c1156496",
   "metadata": {},
   "source": [
    "# Step 3: Install the base plugin\n",
    "\n",
    "Basic Plugins\n",
    "\n",
    "Plugins Manager\n",
    "\n",
    "Translation Plugin (in Chinese for example)\n",
    "\n",
    "Language prompt words (in Chinese for example)\n",
    "\n",
    "controlnet\n"
   ]
  },
  {
   "cell_type": "code",
   "execution_count": 4,
   "id": "988108fa-2d01-415d-a779-d5703a7337be",
   "metadata": {
    "execution": {
     "iopub.execute_input": "2024-07-05T11:17:59.167671Z",
     "iopub.status.busy": "2024-07-05T11:17:59.167342Z",
     "iopub.status.idle": "2024-07-05T11:18:14.296663Z",
     "shell.execute_reply": "2024-07-05T11:18:14.296130Z",
     "shell.execute_reply.started": "2024-07-05T11:17:59.167653Z"
    },
    "tags": []
   },
   "outputs": [
    {
     "name": "stdout",
     "output_type": "stream",
     "text": [
      "/mnt/workspace/ComfyUI/custom_nodes\n",
      "Cloning into 'ComfyUI-Manager'...\n",
      "remote: Enumerating objects: 11184, done.\u001b[K\n",
      "remote: Counting objects: 100% (1426/1426), done.\u001b[K\n",
      "remote: Compressing objects: 100% (412/412), done.\u001b[K\n",
      "remote: Total 11184 (delta 1089), reused 1221 (delta 1013), pack-reused 9758\u001b[K\n",
      "Receiving objects: 100% (11184/11184), 8.61 MiB | 5.95 MiB/s, done.\n",
      "Resolving deltas: 100% (8159/8159), done.\n",
      "Cloning into 'AIGODLIKE-COMFYUI-TRANSLATION'...\n",
      "remote: Enumerating objects: 2295, done.\u001b[K\n",
      "remote: Counting objects: 100% (1533/1533), done.\u001b[K\n",
      "remote: Compressing objects: 100% (513/513), done.\u001b[K\n",
      "remote: Total 2295 (delta 1281), reused 1140 (delta 1014), pack-reused 762\u001b[K\n",
      "Receiving objects: 100% (2295/2295), 1.21 MiB | 1.38 MiB/s, done.\n",
      "Resolving deltas: 100% (1560/1560), done.\n",
      "Cloning into 'ComfyUI_Custom_Nodes_AlekPet'...\n",
      "remote: Enumerating objects: 1597, done.\u001b[K\n",
      "remote: Counting objects: 100% (224/224), done.\u001b[K\n",
      "remote: Compressing objects: 100% (98/98), done.\u001b[K\n",
      "remote: Total 1597 (delta 137), reused 177 (delta 111), pack-reused 1373\u001b[K\n",
      "Receiving objects: 100% (1597/1597), 7.61 MiB | 5.42 MiB/s, done.\n",
      "Resolving deltas: 100% (867/867), done.\n",
      "Cloning into 'ComfyUI-Advanced-ControlNet'...\n",
      "remote: Enumerating objects: 821, done.\u001b[K\n",
      "remote: Counting objects: 100% (221/221), done.\u001b[K\n",
      "remote: Compressing objects: 100% (123/123), done.\u001b[K\n",
      "remote: Total 821 (delta 169), reused 130 (delta 98), pack-reused 600\u001b[K\n",
      "Receiving objects: 100% (821/821), 322.00 KiB | 493.00 KiB/s, done.\n",
      "Resolving deltas: 100% (565/565), done.\n",
      "Cloning into 'comfyui_controlnet_aux'...\n",
      "remote: Enumerating objects: 4533, done.\u001b[K\n",
      "remote: Counting objects: 100% (1096/1096), done.\u001b[K\n",
      "remote: Compressing objects: 100% (290/290), done.\u001b[K\n",
      "remote: Total 4533 (delta 857), reused 933 (delta 800), pack-reused 3437\u001b[K\n",
      "Receiving objects: 100% (4533/4533), 29.87 MiB | 15.38 MiB/s, done.\n",
      "Resolving deltas: 100% (2444/2444), done.\n"
     ]
    }
   ],
   "source": [
    "%cd /mnt/workspace/ComfyUI/custom_nodes  \n",
    "\n",
    "!git clone https://github.com/ltdrdata/ComfyUI-Manager\n",
    "\n",
    "!git clone https://github.com/AIGODLIKE/AIGODLIKE-COMFYUI-TRANSLATION\n",
    "\n",
    "!git clone https://github.com/AlekPet/ComfyUI_Custom_Nodes_AlekPet\n",
    "\n",
    "!git clone https://github.com/Kosinkadink/ComfyUI-Advanced-ControlNet \n",
    "!git clone https://github.com/Fannovel16/comfyui_controlnet_aux"
   ]
  },
  {
   "cell_type": "markdown",
   "id": "f87fee4a-a81d-4781-bcbd-c09508e4821d",
   "metadata": {},
   "source": [
    "# Install advanced plug-ins"
   ]
  },
  {
   "cell_type": "markdown",
   "id": "a13ae321-a867-483e-a02f-9bd1f5e3c401",
   "metadata": {},
   "source": [
    "## Installed Face detailer plugin"
   ]
  },
  {
   "cell_type": "code",
   "execution_count": null,
   "id": "cc314689-e4c3-45d7-bbc0-e3c0383b47f6",
   "metadata": {},
   "outputs": [],
   "source": [
    "%cd /mnt/workspace/ComfyUI/custom_nodes  \n",
    "!git clone https://github.com/ltdrdata/ComfyUI-Impact-Pack.git"
   ]
  },
  {
   "cell_type": "markdown",
   "id": "36ce76fa-be0a-4ed4-befb-3994aced2b12",
   "metadata": {},
   "source": [
    "Installed Face detailer models, Suggested oss upload\n",
    "\n",
    "Model original address: \n",
    "https://huggingface.co/Bingsu/adetailer\n",
    "\n",
    "Model web disk address:\n",
    "https://pan.quark.cn/s/8bb610b61cae\n",
    "\n"
   ]
  },
  {
   "cell_type": "markdown",
   "id": "c2bae993-8e2b-44d7-9fe2-e45aa90e8f69",
   "metadata": {},
   "source": [
    "## segment anything\n",
    "\n",
    "https://github.com/storyicon/comfyui_segment_anything.git\n",
    "\n",
    "\n",
    "\n"
   ]
  },
  {
   "cell_type": "code",
   "execution_count": null,
   "id": "77174ddb-dd18-4f33-a0a5-057a08ebaf59",
   "metadata": {},
   "outputs": [],
   "source": [
    "%cd /mnt/workspace/ComfyUI/custom_nodes  \n",
    "\n",
    "!git clone https://github.com/storyicon/comfyui_segment_anything.git"
   ]
  },
  {
   "cell_type": "markdown",
   "id": "31575423-dc81-4a61-97f0-1de2a97aadd4",
   "metadata": {},
   "source": [
    "## rembg-comfyui-node\n",
    "\n",
    "https://github.com/Jcd1230/rembg-comfyui-node"
   ]
  },
  {
   "cell_type": "code",
   "execution_count": null,
   "id": "f7724558-ce9d-4034-8c03-a8a327c9cd05",
   "metadata": {
    "ExecutionIndicator": {
     "show": true
    },
    "tags": []
   },
   "outputs": [],
   "source": [
    "%cd /mnt/workspace/ComfyUI/custom_nodes  \n",
    "\n",
    "!git clone https://github.com/Jcd1230/rembg-comfyui-node.git\n",
    "\n",
    "!pip install rembg[gpu]"
   ]
  },
  {
   "cell_type": "markdown",
   "id": "682be950-1a1d-4bc9-b68a-f2d03b329b29",
   "metadata": {},
   "source": [
    "## Portrait Master Workflow 2023-12-22\n",
    "\n",
    "English version plugin: https://github.com/florestefano1975/comfyui-portrait-master/\n",
    "\n",
    "Chinese version plugin: https://github.com/ZHO-ZHO-ZHO/comfyui-portrait-master-zh-cn\n",
    "\n",
    "Helper nodes (prompt related)\n",
    "https://github.com/asagi4/comfyui-prompt-control\n",
    "\n",
    "https://github.com/BlenderNeko/ComfyUI_ADV_CLIP_emb\n",
    "\n",
    "https://github.com/pythongosssss/ComfyUI-Custom-Scripts.git\n"
   ]
  },
  {
   "cell_type": "code",
   "execution_count": 2,
   "id": "1bea7a55-ff34-4f4c-a8d8-6551661dab47",
   "metadata": {
    "ExecutionIndicator": {
     "show": true
    },
    "execution": {
     "iopub.execute_input": "2023-12-23T04:26:03.747007Z",
     "iopub.status.busy": "2023-12-23T04:26:03.746790Z",
     "iopub.status.idle": "2023-12-23T04:26:07.598066Z",
     "shell.execute_reply": "2023-12-23T04:26:07.597141Z",
     "shell.execute_reply.started": "2023-12-23T04:26:03.746981Z"
    },
    "tags": []
   },
   "outputs": [
    {
     "name": "stdout",
     "output_type": "stream",
     "text": [
      "/mnt/workspace/ComfyUI/custom_nodes\n",
      "fatal: destination path 'comfyui-prompt-control' already exists and is not an empty directory.\n",
      "fatal: destination path 'ComfyUI_ADV_CLIP_emb' already exists and is not an empty directory.\n",
      "Cloning into 'ComfyUI-Custom-Scripts'...\n",
      "remote: Enumerating objects: 1215, done.\u001b[K\n",
      "remote: Counting objects: 100% (124/124), done.\u001b[K\n",
      "remote: Compressing objects: 100% (16/16), done.\u001b[K\n",
      "remote: Total 1215 (delta 111), reused 108 (delta 108), pack-reused 1091\u001b[K\n",
      "Receiving objects: 100% (1215/1215), 337.78 KiB | 405.00 KiB/s, done.\n",
      "Resolving deltas: 100% (710/710), done.\n"
     ]
    }
   ],
   "source": [
    "%cd /mnt/workspace/ComfyUI/custom_nodes\n",
    "\n",
    "!git clone https://github.com/asagi4/comfyui-prompt-control\n",
    "\n",
    "!git clone https://github.com/BlenderNeko/ComfyUI_ADV_CLIP_emb\n",
    "\n",
    "!git clone https://github.com/pythongosssss/ComfyUI-Custom-Scripts.git"
   ]
  },
  {
   "cell_type": "markdown",
   "id": "431343f6-0ef6-4528-adf7-85a06239daee",
   "metadata": {},
   "source": [
    "# AI Remover\n",
    "\n",
    "https://github.com/hhhzzyang/Comfyui_Lama"
   ]
  },
  {
   "cell_type": "code",
   "execution_count": 3,
   "id": "e569f58e-54ec-4d34-a344-6d575a881fee",
   "metadata": {
    "execution": {
     "iopub.execute_input": "2023-12-23T04:26:07.602360Z",
     "iopub.status.busy": "2023-12-23T04:26:07.601893Z",
     "iopub.status.idle": "2023-12-23T04:26:14.543114Z",
     "shell.execute_reply": "2023-12-23T04:26:14.542157Z",
     "shell.execute_reply.started": "2023-12-23T04:26:07.602333Z"
    }
   },
   "outputs": [
    {
     "name": "stdout",
     "output_type": "stream",
     "text": [
      "/mnt/workspace/ComfyUI/custom_nodes\n",
      "Cloning into 'Comfyui_Lama'...\n",
      "remote: Enumerating objects: 190, done.\u001b[K\n",
      "remote: Counting objects: 100% (109/109), done.\u001b[K\n",
      "remote: Compressing objects: 100% (88/88), done.\u001b[K\n",
      "remote: Total 190 (delta 42), reused 64 (delta 14), pack-reused 81\u001b[K\n",
      "Receiving objects: 100% (190/190), 87.10 MiB | 21.39 MiB/s, done.\n",
      "Resolving deltas: 100% (42/42), done.\n"
     ]
    }
   ],
   "source": [
    "%cd /mnt/workspace/ComfyUI/custom_nodes\n",
    "!git clone https://github.com/hhhzzyang/Comfyui_Lama"
   ]
  },
  {
   "cell_type": "markdown",
   "id": "53e0d2e3-bc89-45d6-9c4e-35fc02a78f5e",
   "metadata": {},
   "source": [
    "## Install the Controlnet Model\n",
    "\n",
    "sd1.5 controlnet\n",
    "\n",
    "sdxl controlnet\n",
    "\n",
    "Upload via download and oss"
   ]
  },
  {
   "cell_type": "markdown",
   "id": "25b4471a-49ed-45a5-8285-f49b3b16d09c",
   "metadata": {},
   "source": [
    "# Step 3: Launch Comfyui"
   ]
  },
  {
   "cell_type": "code",
   "execution_count": null,
   "id": "bd02028b-f67d-4bd2-8575-78326347f74e",
   "metadata": {
    "ExecutionIndicator": {
     "show": true
    },
    "execution": {
     "iopub.execute_input": "2024-07-05T11:28:32.769453Z",
     "iopub.status.busy": "2024-07-05T11:28:32.769210Z"
    },
    "tags": []
   },
   "outputs": [
    {
     "name": "stdout",
     "output_type": "stream",
     "text": [
      "/mnt/workspace/ComfyUI\n",
      "[START] Security scan\n",
      "[DONE] Security scan\n",
      "## ComfyUI-Manager: installing dependencies done.\n",
      "** ComfyUI startup time: 2024-07-05 11:28:33.488954\n",
      "** Platform: Linux\n",
      "** Python version: 3.10.12 (main, Jun 11 2023, 05:26:28) [GCC 11.4.0]\n",
      "** Python executable: /usr/bin/python\n",
      "** ComfyUI Path: /mnt/workspace/ComfyUI\n",
      "** Log path: /mnt/workspace/ComfyUI/comfyui.log\n",
      "\n",
      "Prestartup times for custom nodes:\n",
      "   0.6 seconds: /mnt/workspace/ComfyUI/custom_nodes/ComfyUI-Manager\n",
      "\n",
      "Total VRAM 22732 MB, total RAM 30149 MB\n",
      "pytorch version: 2.0.1+cu117\n",
      "xformers version: 0.0.20\n",
      "Set vram state to: NORMAL_VRAM\n",
      "Device: cuda:0 NVIDIA A10 : cudaMallocAsync\n",
      "Using xformers cross attention\n",
      "\u001b[1;35m### [START] ComfyUI AlekPet Nodes ###\u001b[0m\n",
      "\u001b[92mNode -> ArgosTranslateNode [Loading]\u001b[0m\n",
      "\u001b[92mNode -> DeepTranslatorNode [Loading]\u001b[0m\n",
      "\u001b[92mNode -> ExtrasNode [Loading]\u001b[0m\n",
      "\u001b[92mNode -> PainterNode [Loading]\u001b[0m\n",
      "\u001b[92mNode -> GoogleTranslateNode [Loading]\u001b[0m\n",
      "\u001b[92mNode -> PoseNode [Loading]\u001b[0m\n",
      "\u001b[1;35m### [END] ComfyUI AlekPet Nodes ###\u001b[0m\n",
      "### Loading: ComfyUI-Manager (V2.44.1)\n",
      "### ComfyUI Revision: 2333 [1dc87df4] | Released on '2024-07-04'\n",
      "\u001b[36;20m[comfyui_controlnet_aux] | INFO -> Using ckpts path: /mnt/workspace/ComfyUI/custom_nodes/comfyui_controlnet_aux/ckpts\u001b[0m\n",
      "\u001b[36;20m[comfyui_controlnet_aux] | INFO -> Using symlinks: False\u001b[0m\n",
      "\u001b[36;20m[comfyui_controlnet_aux] | INFO -> Using ort providers: ['CUDAExecutionProvider', 'DirectMLExecutionProvider', 'OpenVINOExecutionProvider', 'ROCMExecutionProvider', 'CPUExecutionProvider', 'CoreMLExecutionProvider']\u001b[0m\n",
      "/mnt/workspace/ComfyUI/custom_nodes/comfyui_controlnet_aux/node_wrappers/dwpose.py:26: UserWarning: DWPose: Onnxruntime not found or doesn't come with acceleration providers, switch to OpenCV with CPU device. DWPose might run very slowly\n",
      "  warnings.warn(\"DWPose: Onnxruntime not found or doesn't come with acceleration providers, switch to OpenCV with CPU device. DWPose might run very slowly\")\n",
      "\n",
      "Import times for custom nodes:\n",
      "   0.0 seconds: /mnt/workspace/ComfyUI/custom_nodes/websocket_image_save.py\n",
      "   0.0 seconds: /mnt/workspace/ComfyUI/custom_nodes/AIGODLIKE-COMFYUI-TRANSLATION\n",
      "   0.0 seconds: /mnt/workspace/ComfyUI/custom_nodes/ComfyUI-Advanced-ControlNet\n",
      "   0.0 seconds: /mnt/workspace/ComfyUI/custom_nodes/ComfyUI-Manager\n",
      "   0.5 seconds: /mnt/workspace/ComfyUI/custom_nodes/comfyui_controlnet_aux\n",
      "   7.0 seconds: /mnt/workspace/ComfyUI/custom_nodes/ComfyUI_Custom_Nodes_AlekPet\n",
      "\n",
      "Starting server\n",
      "\n",
      "To see the GUI go to: http://127.0.0.1:8188\n",
      "[ComfyUI-Manager] default cache updated: https://raw.githubusercontent.com/ltdrdata/ComfyUI-Manager/main/model-list.json\n",
      "[ComfyUI-Manager] default cache updated: https://raw.githubusercontent.com/ltdrdata/ComfyUI-Manager/main/github-stats.json\n",
      "[ComfyUI-Manager] default cache updated: https://raw.githubusercontent.com/ltdrdata/ComfyUI-Manager/main/extension-node-map.json\n",
      "[ComfyUI-Manager] default cache updated: https://raw.githubusercontent.com/ltdrdata/ComfyUI-Manager/main/alter-list.json\n",
      "[ComfyUI-Manager] default cache updated: https://raw.githubusercontent.com/ltdrdata/ComfyUI-Manager/main/custom-node-list.json\n",
      "FETCH DATA from: /mnt/workspace/ComfyUI/custom_nodes/ComfyUI-Manager/extension-node-map.json [DONE]\n",
      "got prompt\n",
      "model_type EPS\n",
      "Using xformers attention in VAE\n",
      "Using xformers attention in VAE\n",
      "Requested to load SD1ClipModel\n",
      "Loading 1 new model\n",
      "Requested to load BaseModel\n",
      "Loading 1 new model\n",
      "100%|███████████████████████████████████████████| 20/20 [00:01<00:00, 14.42it/s]\n",
      "Requested to load AutoencoderKL\n",
      "Loading 1 new model\n",
      "Prompt executed in 3.78 seconds\n",
      "FETCH DATA from: /mnt/workspace/ComfyUI/custom_nodes/ComfyUI-Manager/extension-node-map.json [DONE]\n",
      "got prompt\n",
      "100%|███████████████████████████████████████████| 20/20 [00:01<00:00, 17.66it/s]\n",
      "Prompt executed in 1.30 seconds\n"
     ]
    }
   ],
   "source": [
    "%cd /mnt/workspace/ComfyUI/\n",
    "!python main.py"
   ]
  }
 ],
 "metadata": {
  "kernelspec": {
   "display_name": "Python 3 (ipykernel)",
   "language": "python",
   "name": "python3"
  },
  "language_info": {
   "codemirror_mode": {
    "name": "ipython",
    "version": 3
   },
   "file_extension": ".py",
   "mimetype": "text/x-python",
   "name": "python",
   "nbconvert_exporter": "python",
   "pygments_lexer": "ipython3",
   "version": "3.11.5"
  }
 },
 "nbformat": 4,
 "nbformat_minor": 5
}
